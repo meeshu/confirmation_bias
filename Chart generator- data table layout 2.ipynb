{
 "cells": [
  {
   "cell_type": "code",
   "execution_count": 249,
   "id": "5c75e1c4",
   "metadata": {},
   "outputs": [],
   "source": [
    "import numpy as np\n",
    "import matplotlib.pyplot as plt "
   ]
  },
  {
   "cell_type": "code",
   "execution_count": 250,
   "id": "9150ff01",
   "metadata": {},
   "outputs": [],
   "source": [
    "update_nums = [1, 2, 3]\n",
    "update_formats = ['per', 'num', 'rate']\n",
    "\n",
    "# 1: [[1,2,3],[1,3,2],[1,3,2],[3,1,2],[3,1,2]],\n",
    "# 2: [[3,1,2],[1,3,2],[3,1,2],[1,2,3],[3,2,1]],\n",
    "# 3: [[1,3,2],[3,1,2],[3,2,1],[2,3,1],[3,2,1]]\n",
    "\n",
    "per_updates = { 1: [[25,31,44],[13,62,25],[17,50,33],[55,21,23],[55,19,24]], \n",
    "                2: [[44,25,31],[13,62,25],[50,17,33],[21,23,55],[55,24,19]],\n",
    "                3: [[25,44,31],[62,13,25],[50,33,17],[23,55,21],[55,24,19]],\n",
    "              }\n",
    "\n",
    "num_updates = { 1: [[8,16,33],[13,62,25],[67,327,121],[32,18,31],[17,4,11]], \n",
    "                2: [[33,8,16],[13,62,25],[327,67,121],[18,31,32],[17,11,4]], \n",
    "                3: [[8,33,16],[62,13,25],[327,121,67],[31,32,18],[17,11,4]]\n",
    "              }\n",
    "\n",
    "rate_updates = { 1: [[8,10,16],[14,41,21],[57,173,154],[75,21,67],[151,58,72]], \n",
    "                 2: [[16,8,10],[14,41,21],[173,57,154],[21,67,75],[151,72,58]], \n",
    "                 3: [[8,16,10],[41,14,21],[173,154,57],[67,75,21],[151,72,58]]\n",
    "               }"
   ]
  },
  {
   "cell_type": "code",
   "execution_count": 251,
   "id": "54674d2a",
   "metadata": {},
   "outputs": [],
   "source": [
    "which_safest = [\"Blicket\", \"Dax\", \"Wug\"]\n",
    "columns_safest = { 'Blicket': (\"Blicket\", \"Dax\", \"Wug\"), \n",
    "                   'Dax': (\"Dax\", \"Wug\", \"Blicket\"), \n",
    "                   'Wug': (\"Wug\", \"Blicket\", \"Dax\")\n",
    "                 }"
   ]
  },
  {
   "cell_type": "code",
   "execution_count": 252,
   "id": "446ca761",
   "metadata": {},
   "outputs": [],
   "source": [
    "rows_format = { 'per': (\"% occupant death due to a vehicle rollover caused by right turn\", \"% occupant deaths due to rollover crashes in ice/ frost condition on road\", \"% occupant death in rollover crashes in blowing snow atmospheric conditions\", \"% of occupant deaths in single vehicle crashes\", \"% of occupant deaths in 2019\")[::-1], \n",
    "                'num': (\"# of Drivers killed on colliding with crash cushions\", \"# of Drivers killed in crashes in rural areas in 2019\", \"# of Drivers killed on collision with concrete barrier\", \"# of Drivers killed in rollover crashes with no initial impact\", \"# of Drivers killed on collision with utility pole\")[::-1], \n",
    "                'rate': (\"Driver death rate* for crashes involving very large sized vehicles\", \"Driver death rate* for multi-vehicle crashes involving small size vehicles\", \"Driver death rate* for crashes involving young drivers (age 15 - 20)\", \"Driver death rate* on collision with tree\", \"Driver death rate* for crashes involving alcohol impaired drivers\")[::-1]\n",
    "              }\n",
    "#footnote for rate\n",
    "footer='*Driver death rate is defined as deaths per million registered vehicle'"
   ]
  },
  {
   "cell_type": "code",
   "execution_count": 253,
   "id": "8c37a641",
   "metadata": {
    "scrolled": true
   },
   "outputs": [
    {
     "ename": "IndentationError",
     "evalue": "unexpected indent (<ipython-input-253-c746eb5bd128>, line 9)",
     "output_type": "error",
     "traceback": [
      "\u001b[0;36m  File \u001b[0;32m\"<ipython-input-253-c746eb5bd128>\"\u001b[0;36m, line \u001b[0;32m9\u001b[0m\n\u001b[0;31m    plt.figure(linewidth=2,\u001b[0m\n\u001b[0m    ^\u001b[0m\n\u001b[0;31mIndentationError\u001b[0m\u001b[0;31m:\u001b[0m unexpected indent\n"
     ]
    }
   ],
   "source": [
    "def create_fig(update, row_labels, col_labels, title, footer): \n",
    "    \n",
    "    fig, axs = plt.subplots(5)\n",
    "    \n",
    "    \n",
    "    # Create the figure. Setting a small pad on tight_layout\n",
    "    # seems to better regulate white space. Sometimes experimenting\n",
    "    # with an explicit figsize here can produce better outcome.\n",
    "        axs.figure(linewidth=2,\n",
    "               tight_layout={'pad':1},\n",
    "               figsize=(15,2)\n",
    "              )\n",
    "\n",
    "        # generate 1 row table\n",
    "        for one_rowcell in range(len(update)):\n",
    "            cell_text= update[one_rowcell][:]\n",
    "            cell_text=[cell_text,]\n",
    "            row_label=row_labels[one_rowcell]\n",
    "            row_label=[row_label,]\n",
    "            the_table = axs[0].table(cellText= cell_text,\n",
    "                            rowLabels=row_label,\n",
    "                            rowLoc='left',\n",
    "                            colLabels=col_labels,\n",
    "                            loc='center',cellLoc='center')\n",
    "\n",
    "        # Add footer for rate data only\n",
    "        axs[0].figtext(0.10, 0.01, footer, horizontalalignment='left', size=8, weight='light')\n",
    "\n",
    "        # Scaling is the only influence we have over top and bottom cell padding.\n",
    "        # Make the rows taller (i.e., make cell y scale larger).\n",
    "        the_table.scale(1, 1.5)\n",
    "\n",
    "        # Hide axes\n",
    "        #ax = plt.gca()\n",
    "        #ax.get_xaxis().set_visible(False)\n",
    "        #ax.get_yaxis().set_visible(False)\n",
    "        # Hide axes border\n",
    "        #plt.box(on=None)\n",
    "\n",
    "        # Create image. plt.savefig ignores figure edge and face colors, so map them.\n",
    "        #fig = plt.gcf()\n",
    "        #plt.savefig(title + '.png',\n",
    "                #bbox='tight',\n",
    "                #dpi=150\n",
    "                #)\n",
    "\n",
    "        plt.show()\n",
    "\n",
    "\n",
    "\n"
   ]
  },
  {
   "cell_type": "code",
   "execution_count": null,
   "id": "cd54180c",
   "metadata": {},
   "outputs": [],
   "source": [
    "for num in update_nums: # produce table for update 1, 2, 3\n",
    "    for update_format in update_formats: # for each update, vary by format\n",
    "        if (update_format == 'per'): \n",
    "            updates = per_updates[num]\n",
    "            footnote = None\n",
    "        elif (update_format == 'num'):\n",
    "            updates = num_updates[num]\n",
    "            footnote = None\n",
    "        elif (update_format == 'rate'):\n",
    "            updates = rate_updates[num]\n",
    "            footnote = footer\n",
    "            \n",
    "        for safest in which_safest: # for each update and format, vary which car is safest\n",
    "            columns = columns_safest[safest]\n",
    "            rows = rows_format[update_format]\n",
    "\n",
    "            create_fig(updates, rows, columns, safest + '_' + str(num) + '_' + update_format, footnote)"
   ]
  },
  {
   "cell_type": "markdown",
   "id": "9d01afbc",
   "metadata": {},
   "source": [
    "##### "
   ]
  }
 ],
 "metadata": {
  "kernelspec": {
   "display_name": "Python 3",
   "language": "python",
   "name": "python3"
  },
  "language_info": {
   "codemirror_mode": {
    "name": "ipython",
    "version": 3
   },
   "file_extension": ".py",
   "mimetype": "text/x-python",
   "name": "python",
   "nbconvert_exporter": "python",
   "pygments_lexer": "ipython3",
   "version": "3.8.8"
  }
 },
 "nbformat": 4,
 "nbformat_minor": 5
}
